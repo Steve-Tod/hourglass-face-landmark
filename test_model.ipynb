{
 "cells": [
  {
   "cell_type": "code",
   "execution_count": 1,
   "metadata": {
    "ExecuteTime": {
     "end_time": "2019-04-18T06:19:26.946248Z",
     "start_time": "2019-04-18T06:19:26.481204Z"
    }
   },
   "outputs": [],
   "source": [
    "import torch\n",
    "import torch.nn as nn\n",
    "\n",
    "from data.dataset import FaceLandmarkDataset\n",
    "from torch.utils.data import DataLoader\n",
    "from options.options import parse_opt"
   ]
  },
  {
   "cell_type": "code",
   "execution_count": 2,
   "metadata": {
    "ExecuteTime": {
     "end_time": "2019-04-18T06:19:26.956181Z",
     "start_time": "2019-04-18T06:19:26.948830Z"
    }
   },
   "outputs": [],
   "source": [
    "class ResidualBlock(nn.Module):\n",
    "    def __init__(self, num_in, num_out):\n",
    "        super(ResidualBlock, self).__init__()\n",
    "        self.conv_block = nn.Sequential(\n",
    "            nn.Conv2d(num_in, num_out // 2, 1), nn.BatchNorm2d(num_out // 2),\n",
    "            nn.ReLU(inplace=True),\n",
    "            nn.Conv2d(num_out // 2, num_out // 2, 3, stride=1, padding=1),\n",
    "            nn.BatchNorm2d(num_out // 2), nn.ReLU(inplace=True),\n",
    "            nn.Conv2d(num_out // 2, num_out, 1), nn.BatchNorm2d(num_out))\n",
    "        self.skip_layer = None if num_in == num_out else nn.Sequential(\n",
    "            nn.Conv2d(num_in, num_out, 1), nn.BatchNorm2d(num_out))\n",
    "    \n",
    "    def forward(self, x):\n",
    "        residual = self.conv_block(x)\n",
    "        if self.skip_layer:\n",
    "            x = self.skip_layer(x)\n",
    "        return x + residual"
   ]
  },
  {
   "cell_type": "code",
   "execution_count": 3,
   "metadata": {
    "ExecuteTime": {
     "end_time": "2019-04-18T06:19:27.332557Z",
     "start_time": "2019-04-18T06:19:27.318060Z"
    }
   },
   "outputs": [],
   "source": [
    "class HourGlass(nn.Module):\n",
    "    def __init__(self, num_layer, num_feature):\n",
    "        super(HourGlass, self).__init__()\n",
    "        self._n = num_layer\n",
    "        self._f = num_feature\n",
    "        self._init_layers(self._n, self._f)\n",
    "\n",
    "    def _init_layers(self, n, f):\n",
    "        setattr(self, 'res' + str(n) + '_1', ResidualBlock(f, f))\n",
    "        setattr(self, 'pool' + str(n) + '_1', nn.MaxPool2d(2, 2))\n",
    "        setattr(self, 'res' + str(n) + '_2', ResidualBlock(f, f))\n",
    "        if n > 1:\n",
    "            self._init_layers(n - 1, f)\n",
    "        else:\n",
    "            self.res_center = ResidualBlock(f, f)\n",
    "        setattr(self, 'res' + str(n) + '_3', ResidualBlock(f, f))\n",
    "\n",
    "    def _forward(self, x, n, f):\n",
    "        up1 = eval('self.res' + str(n) + '_1')(x)\n",
    "\n",
    "        low1 = eval('self.pool' + str(n) + '_1')(x)\n",
    "        low1 = eval('self.res' + str(n) + '_2')(low1)\n",
    "        if n > 1:\n",
    "            low2 = self._forward(low1, n - 1, f)\n",
    "        else:\n",
    "            low2 = self.res_center(low1)\n",
    "        low3 = low2\n",
    "        low3 = eval('self.' + 'res' + str(n) + '_3')(low3)\n",
    "        up2 = nn.functional.interpolate(low3, scale_factor=2, mode='bilinear', align_corners=True)\n",
    "\n",
    "        return up1 + up2\n",
    "\n",
    "    def forward(self, x):\n",
    "        return self._forward(x, self._n, self._f)"
   ]
  },
  {
   "cell_type": "code",
   "execution_count": 4,
   "metadata": {
    "ExecuteTime": {
     "end_time": "2019-04-18T06:19:27.889100Z",
     "start_time": "2019-04-18T06:19:27.881492Z"
    }
   },
   "outputs": [],
   "source": [
    "class Lin(nn.Module):\n",
    "    def __init__(self,numIn,numout):\n",
    "        super(Lin,self).__init__()\n",
    "        self.conv_block = nn.Sequential(\n",
    "            nn.Conv2d(numIn,numout,1), \n",
    "            nn.BatchNorm2d(numout),\n",
    "            nn.ReLU(inplace=True)\n",
    "        )\n",
    "    def forward(self,x):\n",
    "        return self.conv_block(x)"
   ]
  },
  {
   "cell_type": "code",
   "execution_count": 5,
   "metadata": {
    "ExecuteTime": {
     "end_time": "2019-04-18T06:19:28.481303Z",
     "start_time": "2019-04-18T06:19:28.462105Z"
    }
   },
   "outputs": [],
   "source": [
    "class StackedHourGlass(nn.Module):\n",
    "    def __init__(self, opt):\n",
    "        super(StackedHourGlass, self).__init__()\n",
    "        self.opt = opt\n",
    "        self.num_feature = opt['num_feature']\n",
    "        self.num_stack = opt['num_stack']\n",
    "        self.pre_conv_block = nn.Sequential(\n",
    "            nn.Conv2d(3, self.num_feature // 4, 7, 2, 3),\n",
    "            nn.BatchNorm2d(self.num_feature // 4),\n",
    "            nn.ReLU(inplace=True),\n",
    "            ResidualBlock(self.num_feature // 4, self.num_feature // 2),\n",
    "            nn.MaxPool2d(2, 2),\n",
    "            ResidualBlock(self.num_feature // 2, self.num_feature // 2),\n",
    "            ResidualBlock(self.num_feature // 2, self.num_feature),\n",
    "        )\n",
    "        self._init_stacked_hourglass()\n",
    "\n",
    "    def _init_stacked_hourglass(self):\n",
    "        for i in range(self.num_stack):\n",
    "            setattr(self, 'hg' + str(i), HourGlass(4, self.num_feature))\n",
    "            setattr(self, 'hg' + str(i) + '_res1',\n",
    "                    ResidualBlock(self.num_feature, self.num_feature))\n",
    "            setattr(self, 'hg' + str(i) + '_lin1',\n",
    "                    Lin(self.num_feature, self.num_feature))\n",
    "            setattr(self, 'hg' + str(i) + '_conv_pred',\n",
    "                    nn.Conv2d(self.num_feature, self.opt['num_keypoints'], 1))\n",
    "            if i < self.num_stack - 1:\n",
    "                setattr(self, 'hg' + str(i) + '_conv1',\n",
    "                        nn.Conv2d(self.num_feature, self.num_feature, 1))\n",
    "                setattr(self, 'hg' + str(i) + '_conv2',\n",
    "                        nn.Conv2d(self.opt['num_keypoints'], self.num_feature, 1))\n",
    "                \n",
    "    def forward(self,x):\n",
    "        x = self.pre_conv_block(x) #(n,256,32,32)\n",
    "\n",
    "        out = []\n",
    "        inter = x\n",
    "\n",
    "        for i in range(self.num_stack):\n",
    "            hg = eval('self.hg'+str(i))(inter)\n",
    "            # Residual layers at output resolution\n",
    "            ll = hg\n",
    "            ll = eval('self.hg'+str(i)+'_res1')(ll)\n",
    "            # Linear layer to produce first set of predictions\n",
    "            ll = eval('self.hg'+str(i)+'_lin1')(ll)\n",
    "            # Predicted heatmaps\n",
    "            tmpOut = eval('self.hg'+str(i)+'_conv_pred')(ll)\n",
    "            out.append(tmpOut)\n",
    "            # Add predictions back\n",
    "            if i < self.num_stack - 1:\n",
    "                ll_ = eval('self.hg'+str(i)+'_conv1')(ll)\n",
    "                tmpOut_ = eval('self.hg'+str(i)+'_conv2')(tmpOut)\n",
    "                inter = inter + ll_ + tmpOut_\n",
    "        return out"
   ]
  },
  {
   "cell_type": "code",
   "execution_count": 20,
   "metadata": {
    "ExecuteTime": {
     "end_time": "2019-04-18T06:21:39.479715Z",
     "start_time": "2019-04-18T06:21:39.466249Z"
    }
   },
   "outputs": [],
   "source": [
    "class GHCU(nn.Module):\n",
    "    def __init__(self, opt):\n",
    "        super(GHCU, self).__init__()\n",
    "        self.feature = nn.Sequential(\n",
    "            self.conv_block(opt['in_channel'], 64, 5, 2),  # B*64*16*16\n",
    "            self.conv_block(64, 32, 5, 2),  # B*32*8*8\n",
    "            self.conv_block(32, 16, 3, 2),  # B*16*4*4\n",
    "        )\n",
    "        self.regressor = nn.Sequential(\n",
    "            nn.Linear(opt['feature_length'], 256),\n",
    "            nn.Dropout2d(opt['drop_rate']), nn.ReLU(inplace=True),\n",
    "            nn.Linear(256, opt['output_dim']))\n",
    "\n",
    "    def forward(self, x):\n",
    "        x = self.feature(x)\n",
    "        x = self.regressor(x.view(x.size()[0], -1))\n",
    "        return x\n",
    "\n",
    "    def conv_block(self, num_in, num_out, kernel_size, stride, padding=None):\n",
    "        if not padding:\n",
    "            padding = (kernel_size - 1) // 2\n",
    "        return nn.Sequential(\n",
    "            nn.Conv2d(num_in, num_out, kernel_size, stride, padding),\n",
    "            nn.BatchNorm2d(num_out), nn.ReLU(inplace=True))"
   ]
  },
  {
   "cell_type": "code",
   "execution_count": 7,
   "metadata": {
    "ExecuteTime": {
     "end_time": "2019-04-18T06:19:29.866068Z",
     "start_time": "2019-04-18T06:19:29.862832Z"
    }
   },
   "outputs": [],
   "source": [
    "opt = parse_opt('./options/train/train_hg.json')"
   ]
  },
  {
   "cell_type": "code",
   "execution_count": 10,
   "metadata": {
    "ExecuteTime": {
     "end_time": "2019-04-18T06:19:32.707743Z",
     "start_time": "2019-04-18T06:19:32.480588Z"
    }
   },
   "outputs": [],
   "source": [
    "s = StackedHourGlass(opt['networks']['hourglass'])"
   ]
  },
  {
   "cell_type": "code",
   "execution_count": 11,
   "metadata": {
    "ExecuteTime": {
     "end_time": "2019-04-18T06:19:35.652401Z",
     "start_time": "2019-04-18T06:19:32.944656Z"
    }
   },
   "outputs": [],
   "source": [
    "ds = FaceLandmarkDataset(opt['datasets']['train'])"
   ]
  },
  {
   "cell_type": "code",
   "execution_count": 12,
   "metadata": {
    "ExecuteTime": {
     "end_time": "2019-04-18T06:19:36.429305Z",
     "start_time": "2019-04-18T06:19:36.425809Z"
    }
   },
   "outputs": [],
   "source": [
    "dl = DataLoader(ds, batch_size=4)"
   ]
  },
  {
   "cell_type": "code",
   "execution_count": 13,
   "metadata": {
    "ExecuteTime": {
     "end_time": "2019-04-18T06:19:37.732743Z",
     "start_time": "2019-04-18T06:19:37.678072Z"
    }
   },
   "outputs": [],
   "source": [
    "it = iter(dl)\n",
    "sample = next(it)"
   ]
  },
  {
   "cell_type": "code",
   "execution_count": 14,
   "metadata": {
    "ExecuteTime": {
     "end_time": "2019-04-18T06:19:39.281417Z",
     "start_time": "2019-04-18T06:19:38.272274Z"
    }
   },
   "outputs": [],
   "source": [
    "out = s(sample[0])"
   ]
  },
  {
   "cell_type": "code",
   "execution_count": 21,
   "metadata": {
    "ExecuteTime": {
     "end_time": "2019-04-18T06:21:42.263123Z",
     "start_time": "2019-04-18T06:21:42.088592Z"
    }
   },
   "outputs": [],
   "source": [
    "g = GHCU(opt['networks']['ghcu'])\n",
    "out_g = g(out[0])"
   ]
  },
  {
   "cell_type": "code",
   "execution_count": 22,
   "metadata": {
    "ExecuteTime": {
     "end_time": "2019-04-18T06:21:54.590380Z",
     "start_time": "2019-04-18T06:21:54.583712Z"
    }
   },
   "outputs": [
    {
     "data": {
      "text/plain": [
       "(torch.Size([4, 5, 32, 32]), torch.Size([4, 10]))"
      ]
     },
     "execution_count": 22,
     "metadata": {},
     "output_type": "execute_result"
    }
   ],
   "source": [
    "out[0].size(), out_g.size()"
   ]
  },
  {
   "cell_type": "code",
   "execution_count": 13,
   "metadata": {
    "ExecuteTime": {
     "end_time": "2019-04-18T05:20:03.647314Z",
     "start_time": "2019-04-18T05:20:03.641548Z"
    }
   },
   "outputs": [
    {
     "data": {
      "text/plain": [
       "torch.Size([4, 5, 32, 32])"
      ]
     },
     "execution_count": 13,
     "metadata": {},
     "output_type": "execute_result"
    }
   ],
   "source": [
    "sample[1].size()"
   ]
  },
  {
   "cell_type": "code",
   "execution_count": 3,
   "metadata": {
    "ExecuteTime": {
     "end_time": "2019-04-18T02:51:45.863091Z",
     "start_time": "2019-04-18T02:51:45.852885Z"
    }
   },
   "outputs": [],
   "source": [
    "nn.Conv2d?"
   ]
  }
 ],
 "metadata": {
  "kernelspec": {
   "display_name": "Python3 (pytorch)",
   "language": "python",
   "name": "pytorch_py3"
  },
  "language_info": {
   "codemirror_mode": {
    "name": "ipython",
    "version": 3
   },
   "file_extension": ".py",
   "mimetype": "text/x-python",
   "name": "python",
   "nbconvert_exporter": "python",
   "pygments_lexer": "ipython3",
   "version": "3.6.8"
  }
 },
 "nbformat": 4,
 "nbformat_minor": 2
}
