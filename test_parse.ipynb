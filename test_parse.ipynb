{
 "cells": [
  {
   "cell_type": "code",
   "execution_count": 17,
   "metadata": {
    "ExecuteTime": {
     "end_time": "2019-04-18T08:00:03.626410Z",
     "start_time": "2019-04-18T08:00:03.621940Z"
    }
   },
   "outputs": [],
   "source": [
    "import json, os"
   ]
  },
  {
   "cell_type": "code",
   "execution_count": 16,
   "metadata": {
    "ExecuteTime": {
     "end_time": "2019-04-18T07:50:18.970178Z",
     "start_time": "2019-04-18T07:50:18.965752Z"
    }
   },
   "outputs": [],
   "source": [
    "def get_timestamp():\n",
    "    return datetime.now().strftime('%y%m%d-%H%M%S')"
   ]
  },
  {
   "cell_type": "code",
   "execution_count": 18,
   "metadata": {
    "ExecuteTime": {
     "end_time": "2019-04-18T08:03:15.318009Z",
     "start_time": "2019-04-18T08:03:15.304401Z"
    }
   },
   "outputs": [],
   "source": [
    "def parse_opt(opt_path):\n",
    "    with open(opt_path, 'r') as f:\n",
    "        opt = json.load(f)\n",
    "\n",
    "    # path\n",
    "    exp_name = opt['name']\n",
    "    opt['path']['exp_root'] = os.path.join(opt['path']['root_path'],\n",
    "                                           'experiments', exp_name)\n",
    "    assert os.path.exists(opt['path']['exp_root']) == opt['resume'] # make sure no conflict\n",
    "    opt['path']['checkpoint_dir'] = os.path.join(opt['path']['exp_root'],\n",
    "                                                 'checkpoint')\n",
    "    opt['path']['visual_dir'] = os.path.join(opt['path']['exp_root'],\n",
    "                                             'visualization')\n",
    "    opt['path']['tb_logger_root'] = opt['path']['exp_root'].replace(\n",
    "        'experiments', 'tb_logger')\n",
    "    for k, v in opt['path'].items():\n",
    "        if k == 'root_path':\n",
    "            continue\n",
    "        elif k == 'tb_logger_root':\n",
    "            if opt['use_tb_logger']:\n",
    "                os.makedirs(v)\n",
    "        else:\n",
    "            os.makedirs(v)\n",
    "    # dataset\n",
    "    for k, v in opt['datasets'].items():\n",
    "        opt['datasets'][k]['phase'] = k\n",
    "        opt['datasets'][k]['num_keypoints'] = opt['num_keypoints']\n",
    "\n",
    "    # network\n",
    "    opt['networks']['hourglass']['num_keypoints'] = opt['num_keypoints']\n",
    "    opt['networks']['ghcu']['output_dim'] = 2 * opt['num_keypoints']\n",
    "    opt['networks']['ghcu']['in_channel'] = opt['num_keypoints']\n",
    "    return opt"
   ]
  },
  {
   "cell_type": "code",
   "execution_count": 19,
   "metadata": {
    "ExecuteTime": {
     "end_time": "2019-04-18T08:03:39.948219Z",
     "start_time": "2019-04-18T08:03:39.937719Z"
    }
   },
   "outputs": [
    {
     "data": {
      "text/plain": [
       "{'name': 'HG',\n",
       " 'num_keypoints': 5,\n",
       " 'use_tb_logger': True,\n",
       " 'is_train': True,\n",
       " 'use_gpu': True,\n",
       " 'resume': False,\n",
       " 'datasets': {'train': {'type': 'celebA',\n",
       "   'image_root': '/opt/data4/jzy/dataset/Face_dataset/CelebA/img_align_celeba',\n",
       "   'annotation_path': '/opt/data4/Face_dataset/CelebA/CelebA/Anno/list_landmarks_align_celeba.txt',\n",
       "   'partition_path': '/opt/data4/Face_dataset/CelebA/CelebA/Eval/list_eval_partition.txt',\n",
       "   'input_length': 128,\n",
       "   'num_workers': 4,\n",
       "   'batch_size': 16,\n",
       "   'flip_h': True,\n",
       "   'flip_v': True,\n",
       "   'rotate': True,\n",
       "   'gt_sigma': 1,\n",
       "   'phase': 'train',\n",
       "   'num_keypoints': 5}},\n",
       " 'networks': {'hourglass': {'num_feature': 256,\n",
       "   'num_stack': 4,\n",
       "   'num_layer': 4,\n",
       "   'num_keypoints': 5},\n",
       "  'ghcu': {'num_layer': 4,\n",
       "   'feature_length': 256,\n",
       "   'drop_rate': 0.5,\n",
       "   'output_dim': 10,\n",
       "   'in_channel': 5}},\n",
       " 'train': {'optimizer': 'ADAM',\n",
       "  'learning_rate': 0.0001,\n",
       "  'weight_decay': 0,\n",
       "  'lr_scheme': 'MultiStepLR',\n",
       "  'lr_steps': [20, 40, 60, 80],\n",
       "  'lr_gamma': 0.5,\n",
       "  'loss_type': 'l2',\n",
       "  'num_epochs': 100,\n",
       "  'save_interval': 10,\n",
       "  'log_interval': 100},\n",
       " 'path': {'root_path': '/opt/data4/jzy/projects/hourglass-face-landmark/',\n",
       "  'exp_root': '/opt/data4/jzy/projects/hourglass-face-landmark/experiments/HG',\n",
       "  'checkpoint_dir': '/opt/data4/jzy/projects/hourglass-face-landmark/experiments/HG/checkpoint',\n",
       "  'visual_dir': '/opt/data4/jzy/projects/hourglass-face-landmark/experiments/HG/visualization',\n",
       "  'tb_logger_root': '/opt/data4/jzy/projects/hourglass-face-landmark/tb_logger/HG'}}"
      ]
     },
     "execution_count": 19,
     "metadata": {},
     "output_type": "execute_result"
    }
   ],
   "source": [
    "parse_opt('./options/train/train_hg.json')"
   ]
  },
  {
   "cell_type": "code",
   "execution_count": null,
   "metadata": {},
   "outputs": [],
   "source": []
  }
 ],
 "metadata": {
  "kernelspec": {
   "display_name": "Python 3",
   "language": "python",
   "name": "python3"
  },
  "language_info": {
   "codemirror_mode": {
    "name": "ipython",
    "version": 3
   },
   "file_extension": ".py",
   "mimetype": "text/x-python",
   "name": "python",
   "nbconvert_exporter": "python",
   "pygments_lexer": "ipython3",
   "version": "3.7.0"
  }
 },
 "nbformat": 4,
 "nbformat_minor": 2
}
